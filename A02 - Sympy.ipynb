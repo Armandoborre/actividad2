{
 "cells": [
  {
   "cell_type": "markdown",
   "metadata": {},
   "source": [
    "# Ejercicios de optimización escalar"
   ]
  },
  {
   "cell_type": "markdown",
   "metadata": {},
   "source": [
    "**Para la siguientes funciones encuentre los puntos críticos, grafique y diga si éste se trata de un máximo o mínimo, local o global.**"
   ]
  },
  {
   "cell_type": "markdown",
   "metadata": {},
   "source": [
    "$f(x)=1260+117x-9x^2$"
   ]
  },
  {
   "cell_type": "code",
   "execution_count": 1,
   "metadata": {},
   "outputs": [],
   "source": [
    "import matplotlib.pyplot as plt\n",
    "import sympy as sp\n",
    "import numpy as np"
   ]
  },
  {
   "cell_type": "code",
   "execution_count": 2,
   "metadata": {},
   "outputs": [
    {
     "data": {
      "text/latex": [
       "$\\displaystyle - 9 x^{2} + 117 x + 1260$"
      ],
      "text/plain": [
       "-9*x**2 + 117*x + 1260"
      ]
     },
     "execution_count": 2,
     "metadata": {},
     "output_type": "execute_result"
    }
   ],
   "source": [
    "def f(x) :\n",
    "    return 1260+117*x-9*x**2\n",
    "sp.var(\"x\")\n",
    "f(x)"
   ]
  },
  {
   "cell_type": "code",
   "execution_count": 3,
   "metadata": {},
   "outputs": [
    {
     "data": {
      "text/latex": [
       "$\\displaystyle 117 - 18 x$"
      ],
      "text/plain": [
       "117 - 18*x"
      ]
     },
     "execution_count": 3,
     "metadata": {},
     "output_type": "execute_result"
    }
   ],
   "source": [
    "df= sp.diff(f(x),x)\n",
    "df"
   ]
  },
  {
   "cell_type": "code",
   "execution_count": 4,
   "metadata": {},
   "outputs": [
    {
     "data": {
      "text/plain": [
       "[13/2]"
      ]
     },
     "execution_count": 4,
     "metadata": {},
     "output_type": "execute_result"
    }
   ],
   "source": [
    "sp.solve(df,x)\n"
   ]
  },
  {
   "cell_type": "code",
   "execution_count": 5,
   "metadata": {},
   "outputs": [
    {
     "data": {
      "text/latex": [
       "$\\displaystyle -18$"
      ],
      "text/plain": [
       "-18"
      ]
     },
     "execution_count": 5,
     "metadata": {},
     "output_type": "execute_result"
    }
   ],
   "source": [
    "dff=sp.diff(df,x)\n",
    "dff"
   ]
  },
  {
   "cell_type": "code",
   "execution_count": 6,
   "metadata": {},
   "outputs": [
    {
     "data": {
      "text/latex": [
       "$\\displaystyle -18$"
      ],
      "text/plain": [
       "-18"
      ]
     },
     "execution_count": 6,
     "metadata": {},
     "output_type": "execute_result"
    }
   ],
   "source": [
    "sp.diff(f(x),x,2)"
   ]
  },
  {
   "cell_type": "code",
   "execution_count": 7,
   "metadata": {},
   "outputs": [],
   "source": [
    "import matplotlib.pyplot as plt\n",
    "def df(x): \n",
    "    return 117-18*x\n",
    "def ddf(x):\n",
    "    return 18*x/x"
   ]
  },
  {
   "cell_type": "code",
   "execution_count": 8,
   "metadata": {
    "scrolled": false
   },
   "outputs": [
    {
     "data": {
      "image/png": "[encoded data removed]",
      "text/plain": [
       "<Figure size 432x288 with 1 Axes>"
      ]
     },
     "metadata": {
      "needs_background": "light"
     },
     "output_type": "display_data"
    }
   ],
   "source": [
    "xn= np.linspace(-7,9,1000)\n",
    "yn= f(xn)\n",
    "dyn= df(xn)\n",
    "ddyn= ddf(xn)\n",
    "plt.figure()\n",
    "plt.plot(xn, yn)\n",
    "plt.plot(xn, dyn)\n",
    "plt.grid()"
   ]
  },
  {
   "cell_type": "markdown",
   "metadata": {},
   "source": [
    "en la grafica se muestra que es un maximo global"
   ]
  },
  {
   "cell_type": "markdown",
   "metadata": {},
   "source": [
    "$f(x)=5+x+\\frac{4}{x}$, para $x>0$"
   ]
  },
  {
   "cell_type": "code",
   "execution_count": 9,
   "metadata": {},
   "outputs": [
    {
     "data": {
      "text/latex": [
       "$\\displaystyle x + 5 + \\frac{4}{x}$"
      ],
      "text/plain": [
       "x + 5 + 4/x"
      ]
     },
     "execution_count": 9,
     "metadata": {},
     "output_type": "execute_result"
    }
   ],
   "source": [
    "def f(x) :\n",
    "    return 5+x+4/x\n",
    "sp.var(\"x\")\n",
    "f(x)"
   ]
  },
  {
   "cell_type": "code",
   "execution_count": 10,
   "metadata": {},
   "outputs": [
    {
     "data": {
      "text/latex": [
       "$\\displaystyle 1 - \\frac{4}{x^{2}}$"
      ],
      "text/plain": [
       "1 - 4/x**2"
      ]
     },
     "execution_count": 10,
     "metadata": {},
     "output_type": "execute_result"
    }
   ],
   "source": [
    "df= sp.diff(f(x),x)\n",
    "df"
   ]
  },
  {
   "cell_type": "code",
   "execution_count": 11,
   "metadata": {},
   "outputs": [
    {
     "data": {
      "text/plain": [
       "[-2, 2]"
      ]
     },
     "execution_count": 11,
     "metadata": {},
     "output_type": "execute_result"
    }
   ],
   "source": [
    "sp.solve(df,x)"
   ]
  },
  {
   "cell_type": "code",
   "execution_count": 12,
   "metadata": {},
   "outputs": [
    {
     "data": {
      "text/latex": [
       "$\\displaystyle \\frac{8}{x^{3}}$"
      ],
      "text/plain": [
       "8/x**3"
      ]
     },
     "execution_count": 12,
     "metadata": {},
     "output_type": "execute_result"
    }
   ],
   "source": [
    "dff=sp.diff(df,x)\n",
    "dff"
   ]
  },
  {
   "cell_type": "code",
   "execution_count": 13,
   "metadata": {},
   "outputs": [
    {
     "data": {
      "text/latex": [
       "$\\displaystyle \\frac{8}{x^{3}}$"
      ],
      "text/plain": [
       "8/x**3"
      ]
     },
     "execution_count": 13,
     "metadata": {},
     "output_type": "execute_result"
    }
   ],
   "source": [
    "sp.diff(f(x),x,2)"
   ]
  },
  {
   "cell_type": "code",
   "execution_count": 14,
   "metadata": {},
   "outputs": [],
   "source": [
    "import matplotlib.pyplot as plt\n",
    "def df(x): \n",
    "    return 1-4/x**2\n",
    "def ddf(x):\n",
    "    return 8/(x**3)"
   ]
  },
  {
   "cell_type": "code",
   "execution_count": 15,
   "metadata": {},
   "outputs": [
    {
     "data": {
      "image/png": "[encoded data removed]",
      "text/plain": [
       "<Figure size 432x288 with 1 Axes>"
      ]
     },
     "metadata": {
      "needs_background": "light"
     },
     "output_type": "display_data"
    }
   ],
   "source": [
    "xn= np.linspace(1,10,1000)\n",
    "yn= f(xn)\n",
    "dyn= df(xn)\n",
    "ddyn= ddf(xn)\n",
    "plt.figure()\n",
    "plt.plot(xn, yn)\n",
    "plt.plot(xn, dyn)\n",
    "plt.grid()"
   ]
  },
  {
   "cell_type": "code",
   "execution_count": 38,
   "metadata": {},
   "outputs": [],
   "source": [
    "#la grafica muestra que es un minimo local"
   ]
  },
  {
   "cell_type": "code",
   "execution_count": null,
   "metadata": {},
   "outputs": [],
   "source": []
  },
  {
   "cell_type": "markdown",
   "metadata": {},
   "source": [
    "$f(x)=6-2x+\\sqrt{18-2x^2}$, para $-3\\leq x\\leq 3$"
   ]
  },
  {
   "cell_type": "code",
   "execution_count": 16,
   "metadata": {},
   "outputs": [
    {
     "data": {
      "text/latex": [
       "$\\displaystyle - 2 x + \\sqrt{18 - 2 x^{2}} + 6$"
      ],
      "text/plain": [
       "-2*x + sqrt(18 - 2*x**2) + 6"
      ]
     },
     "execution_count": 16,
     "metadata": {},
     "output_type": "execute_result"
    }
   ],
   "source": [
    "def f(x) :\n",
    "    return 6-2*x+sp.sqrt(18-2*x**2)\n",
    "sp.var(\"x\")\n",
    "f(x)"
   ]
  },
  {
   "cell_type": "code",
   "execution_count": 17,
   "metadata": {},
   "outputs": [
    {
     "data": {
      "text/latex": [
       "$\\displaystyle - \\frac{2 x}{\\sqrt{18 - 2 x^{2}}} - 2$"
      ],
      "text/plain": [
       "-2*x/sqrt(18 - 2*x**2) - 2"
      ]
     },
     "execution_count": 17,
     "metadata": {},
     "output_type": "execute_result"
    }
   ],
   "source": [
    "df= sp.diff(f(x),x)\n",
    "df"
   ]
  },
  {
   "cell_type": "code",
   "execution_count": 18,
   "metadata": {},
   "outputs": [
    {
     "data": {
      "text/plain": [
       "[-sqrt(6)]"
      ]
     },
     "execution_count": 18,
     "metadata": {},
     "output_type": "execute_result"
    }
   ],
   "source": [
    "sp.solve(df,x)"
   ]
  },
  {
   "cell_type": "code",
   "execution_count": 19,
   "metadata": {},
   "outputs": [
    {
     "data": {
      "text/latex": [
       "$\\displaystyle - \\frac{4 x^{2}}{\\left(18 - 2 x^{2}\\right)^{\\frac{3}{2}}} - \\frac{2}{\\sqrt{18 - 2 x^{2}}}$"
      ],
      "text/plain": [
       "-4*x**2/(18 - 2*x**2)**(3/2) - 2/sqrt(18 - 2*x**2)"
      ]
     },
     "execution_count": 19,
     "metadata": {},
     "output_type": "execute_result"
    }
   ],
   "source": [
    "dff=sp.diff(df,x)\n",
    "dff"
   ]
  },
  {
   "cell_type": "code",
   "execution_count": 20,
   "metadata": {},
   "outputs": [
    {
     "data": {
      "text/latex": [
       "$\\displaystyle - \\frac{\\sqrt{2} \\left(\\frac{x^{2}}{9 - x^{2}} + 1\\right)}{\\sqrt{9 - x^{2}}}$"
      ],
      "text/plain": [
       "-sqrt(2)*(x**2/(9 - x**2) + 1)/sqrt(9 - x**2)"
      ]
     },
     "execution_count": 20,
     "metadata": {},
     "output_type": "execute_result"
    }
   ],
   "source": [
    "sp.diff(f(x),x,2)"
   ]
  },
  {
   "cell_type": "code",
   "execution_count": 21,
   "metadata": {},
   "outputs": [
    {
     "data": {
      "text/latex": [
       "$\\displaystyle - \\frac{2 x}{\\sqrt{18 - 2 x^{2}}}$"
      ],
      "text/plain": [
       "-2*x/sqrt(18 - 2*x**2)"
      ]
     },
     "execution_count": 21,
     "metadata": {},
     "output_type": "execute_result"
    }
   ],
   "source": [
    "import matplotlib.pyplot as plt\n",
    "def df(x): \n",
    "    return -2*x/sp.sqrt(18-2*x**2)\n",
    "def ddf(x):\n",
    "    return sp.sqrt(6)\n",
    "df(x)"
   ]
  },
  {
   "cell_type": "code",
   "execution_count": 22,
   "metadata": {
    "scrolled": true
   },
   "outputs": [
    {
     "ename": "SympifyError",
     "evalue": "SympifyError: array([ 1.60000000e+01,  1.59638016e+01,  1.59272786e+01,  1.58904310e+01,\n        1.58532587e+01,  1.58157617e+01,  1.57779401e+01,  1.57397938e+01,\n        1.57013229e+01,  1.56625274e+01,  1.56234072e+01,  1.55839623e+01,\n        1.55441928e+01,  1.55040987e+01,  1.54636799e+01,  1.54229364e+01,\n        1.53818684e+01,  1.53404756e+01,  1.52987582e+01,  1.52567162e+01,\n        1.52143495e+01,  1.51716581e+01,  1.51286422e+01,  1.50853015e+01,\n        1.50416362e+01,  1.49976463e+01,  1.49533317e+01,  1.49086925e+01,\n        1.48637286e+01,  1.48184401e+01,  1.47728269e+01,  1.47268891e+01,\n        1.46806266e+01,  1.46340394e+01,  1.45871277e+01,  1.45398912e+01,\n        1.44923302e+01,  1.44444444e+01,  1.43962341e+01,  1.43476991e+01,\n        1.42988394e+01,  1.42496551e+01,  1.42001461e+01,  1.41503125e+01,\n        1.41001542e+01,  1.40496713e+01,  1.39988637e+01,  1.39477315e+01,\n        1.38962747e+01,  1.38444931e+01,  1.37923870e+01,  1.37399562e+01,\n        1.36872007e+01,  1.36341206e+01,  1.35807159e+01,  1.35269864e+01,\n        1.34729324e+01,  1.34185537e+01,  1.33638503e+01,  1.33088223e+01,\n        1.32534697e+01,  1.31977924e+01,  1.31417904e+01,  1.30854638e+01,\n        1.30288126e+01,  1.29718367e+01,  1.29145362e+01,  1.28569110e+01,\n        1.27989611e+01,  1.27406866e+01,  1.26820875e+01,  1.26231637e+01,\n        1.25639153e+01,  1.25043422e+01,  1.24444444e+01,  1.23842221e+01,\n        1.23236750e+01,  1.22628033e+01,  1.22016070e+01,  1.21400860e+01,\n        1.20782404e+01,  1.20160701e+01,  1.19535752e+01,  1.18907556e+01,\n        1.18276114e+01,  1.17641425e+01,  1.17003490e+01,  1.16362308e+01,\n        1.15717880e+01,  1.15070205e+01,  1.14419284e+01,  1.13765116e+01,\n        1.13107702e+01,  1.12447042e+01,  1.11783134e+01,  1.11115981e+01,\n        1.10445581e+01,  1.09771934e+01,  1.09095041e+01,  1.08414901e+01,\n        1.07731515e+01,  1.07044883e+01,  1.06355004e+01,  1.05661878e+01,\n        1.04965506e+01,  1.04265888e+01,  1.03563022e+01,  1.02856911e+01,\n        1.02147553e+01,  1.01434948e+01,  1.00719097e+01,  1.00000000e+01,\n        9.92776560e+00,  9.85520656e+00,  9.78232286e+00,  9.70911452e+00,\n        9.63558153e+00,  9.56172389e+00,  9.48754160e+00,  9.41303466e+00,\n        9.33820307e+00,  9.26304683e+00,  9.18756594e+00,  9.11176041e+00,\n        9.03563022e+00,  8.95917539e+00,  8.88239591e+00,  8.80529178e+00,\n        8.72786300e+00,  8.65010957e+00,  8.57203149e+00,  8.49362876e+00,\n        8.41490139e+00,  8.33584936e+00,  8.25647269e+00,  8.17677137e+00,\n        8.09674539e+00,  8.01639477e+00,  7.93571950e+00,  7.85471958e+00,\n        7.77339502e+00,  7.69174580e+00,  7.60977193e+00,  7.52747342e+00,\n        7.44485026e+00,  7.36190244e+00,  7.27862998e+00,  7.19503287e+00,\n        7.11111111e+00,  7.02686470e+00,  6.94229364e+00,  6.85739794e+00,\n        6.77217758e+00,  6.68663258e+00,  6.60076293e+00,  6.51456862e+00,\n        6.42804967e+00,  6.34120607e+00,  6.25403782e+00,  6.16654492e+00,\n        6.07872738e+00,  5.99058518e+00,  5.90211833e+00,  5.81332684e+00,\n        5.72421070e+00,  5.63476991e+00,  5.54500446e+00,  5.45491437e+00,\n        5.36449963e+00,  5.27376025e+00,  5.18269621e+00,  5.09130752e+00,\n        4.99959419e+00,  4.90755620e+00,  4.81519357e+00,  4.72250629e+00,\n        4.62949436e+00,  4.53615778e+00,  4.44249655e+00,  4.34851067e+00,\n        4.25420015e+00,  4.15956497e+00,  4.06460515e+00,  3.96932067e+00,\n        3.87371155e+00,  3.77777778e+00,  3.68151936e+00,  3.58493629e+00,\n        3.48802857e+00,  3.39079620e+00,  3.29323919e+00,  3.19535752e+00,\n        3.09715121e+00,  2.99862024e+00,  2.89976463e+00,  2.80058437e+00,\n        2.70107946e+00,  2.60124990e+00,  2.50109569e+00,  2.40061683e+00,\n        2.29981333e+00,  2.19868517e+00,  2.09723237e+00,  1.99545491e+00,\n        1.89335281e+00,  1.79092606e+00,  1.68817466e+00,  1.58509861e+00,\n        1.48169791e+00,  1.37797257e+00,  1.27392257e+00,  1.16954793e+00,\n        1.06484863e+00,  9.59824690e-01,  8.54476098e-01,  7.48802857e-01,\n        6.42804967e-01,  5.36482428e-01,  4.29835241e-01,  3.22863404e-01,\n        2.15566918e-01,  1.07945784e-01,  0.00000000e+00, -1.08270433e-01,\n       -2.16865514e-01, -3.25785245e-01, -4.35029624e-01, -5.44598653e-01,\n       -6.54492330e-01, -7.64710657e-01, -8.75253632e-01, -9.86121256e-01,\n       -1.09731353e+00, -1.20883045e+00, -1.32067202e+00, -1.43283824e+00,\n       -1.54532911e+00, -1.65814463e+00, -1.77128480e+00, -1.88474961e+00,\n       -1.99853908e+00, -2.11265319e+00, -2.22709196e+00, -2.34185537e+00,\n       -2.45694343e+00, -2.57235614e+00, -2.68809350e+00, -2.80415551e+00,\n       -2.92054216e+00, -3.03725347e+00, -3.15428942e+00, -3.27165003e+00,\n       -3.38933528e+00, -3.50734518e+00, -3.62567973e+00, -3.74433893e+00,\n       -3.86332278e+00, -3.98263128e+00, -4.10226443e+00, -4.22222222e+00,\n       -4.34250467e+00, -4.46311176e+00, -4.58404350e+00, -4.70529989e+00,\n       -4.82688093e+00, -4.94878662e+00, -5.07101696e+00, -5.19357195e+00,\n       -5.31645159e+00, -5.43965587e+00, -5.56318481e+00, -5.68703839e+00,\n       -5.81121662e+00, -5.93571950e+00, -6.06054703e+00, -6.18569921e+00,\n       -6.31117604e+00, -6.43697752e+00, -6.56310364e+00, -6.68955442e+00,\n       -6.81632984e+00, -6.94342992e+00, -7.07085464e+00, -7.19860401e+00,\n       -7.32667803e+00, -7.45507670e+00, -7.58380002e+00, -7.71284798e+00,\n       -7.84222060e+00, -7.97191786e+00, -8.10193978e+00, -8.23228634e+00,\n       -8.36295755e+00, -8.49395341e+00, -8.62527392e+00, -8.75691908e+00,\n       -8.88888889e+00, -9.02118335e+00, -9.15380245e+00, -9.28674621e+00,\n       -9.42001461e+00, -9.55360766e+00, -9.68752536e+00, -9.82176771e+00,\n       -9.95633471e+00, -1.00912264e+01, -1.02264427e+01, -1.03619836e+01,\n       -1.04978492e+01, -1.06340394e+01, -1.07705543e+01, -1.09073939e+01,\n       -1.10445581e+01, -1.11820469e+01, -1.13198604e+01, -1.14579985e+01,\n       -1.15964613e+01, -1.17352488e+01, -1.18743608e+01, -1.20137976e+01,\n       -1.21535590e+01, -1.22936450e+01, -1.24340557e+01, -1.25747910e+01,\n       -1.27158510e+01, -1.28572356e+01, -1.29989449e+01, -1.31409788e+01,\n       -1.32833374e+01, -1.34260206e+01, -1.35690285e+01, -1.37123610e+01,\n       -1.38560182e+01, -1.40000000e+01, -1.41443065e+01, -1.42889376e+01,\n       -1.44338934e+01, -1.45791738e+01, -1.47247788e+01, -1.48707085e+01,\n       -1.50169629e+01, -1.51635419e+01, -1.53104456e+01, -1.54576739e+01,\n       -1.56052268e+01, -1.57531045e+01, -1.59013067e+01, -1.60498336e+01,\n       -1.61986852e+01, -1.63478614e+01, -1.64973622e+01, -1.66471877e+01,\n       -1.67973379e+01, -1.69478127e+01, -1.70986121e+01, -1.72497362e+01,\n       -1.74011850e+01, -1.75529584e+01, -1.77050564e+01, -1.78574791e+01,\n       -1.80102264e+01, -1.81632984e+01, -1.83166951e+01, -1.84704164e+01,\n       -1.86244623e+01, -1.87788329e+01, -1.89335281e+01, -1.90885480e+01,\n       -1.92438925e+01, -1.93995617e+01, -1.95555556e+01, -1.97118740e+01,\n       -1.98685172e+01, -2.00254849e+01, -2.01827774e+01, -2.03403944e+01,\n       -2.04983362e+01, -2.06566025e+01, -2.08151936e+01, -2.09741092e+01,\n       -2.11333496e+01, -2.12929145e+01, -2.14528042e+01, -2.16130184e+01,\n       -2.17735573e+01, -2.19344209e+01, -2.20956091e+01, -2.22571220e+01,\n       -2.24189595e+01, -2.25811217e+01, -2.27436085e+01, -2.29064199e+01,\n       -2.30695560e+01, -2.32330168e+01, -2.33968022e+01, -2.35609123e+01,\n       -2.37253470e+01, -2.38901063e+01, -2.40551903e+01, -2.42205990e+01,\n       -2.43863323e+01, -2.45523902e+01, -2.47187728e+01, -2.48854801e+01,\n       -2.50525120e+01, -2.52198685e+01, -2.53875497e+01, -2.55555556e+01,\n       -2.57238860e+01, -2.58925412e+01, -2.60615210e+01, -2.62308254e+01,\n       -2.64004545e+01, -2.65704082e+01, -2.67406866e+01, -2.69112897e+01,\n       -2.70822174e+01, -2.72534697e+01, -2.74250467e+01, -2.75969483e+01,\n       -2.77691746e+01, -2.79417255e+01, -2.81146011e+01, -2.82878013e+01,\n       -2.84613262e+01, -2.86351757e+01, -2.88093499e+01, -2.89838487e+01,\n       -2.91586722e+01, -2.93338203e+01, -2.95092931e+01, -2.96850905e+01,\n       -2.98612126e+01, -3.00376593e+01, -3.02144306e+01, -3.03915267e+01,\n       -3.05689473e+01, -3.07466926e+01, -3.09247626e+01, -3.11031572e+01,\n       -3.12818765e+01, -3.14609204e+01, -3.16402889e+01, -3.18199821e+01,\n       -3.20000000e+01, -3.21803425e+01, -3.23610097e+01, -3.25420015e+01,\n       -3.27233179e+01, -3.29049590e+01, -3.30869248e+01, -3.32692152e+01,\n       -3.34518302e+01, -3.36347699e+01, -3.38180343e+01, -3.40016232e+01,\n       -3.41855369e+01, -3.43697752e+01, -3.45543381e+01, -3.47392257e+01,\n       -3.49244380e+01, -3.51099748e+01, -3.52958364e+01, -3.54820226e+01,\n       -3.56685334e+01, -3.58553689e+01, -3.60425290e+01, -3.62300138e+01,\n       -3.64178232e+01, -3.66059573e+01, -3.67944160e+01, -3.69831994e+01,\n       -3.71723074e+01, -3.73617401e+01, -3.75514974e+01, -3.77415794e+01,\n       -3.79319860e+01, -3.81227173e+01, -3.83137732e+01, -3.85051538e+01,\n       -3.86968590e+01, -3.88888889e+01, -3.90812434e+01, -3.92739226e+01,\n       -3.94669264e+01, -3.96602548e+01, -3.98539080e+01, -4.00478857e+01,\n       -4.02421881e+01, -4.04368152e+01, -4.06317669e+01, -4.08270433e+01,\n       -4.10226443e+01, -4.12185699e+01, -4.14148202e+01, -4.16113952e+01,\n       -4.18082948e+01, -4.20055190e+01, -4.22030679e+01, -4.24009415e+01,\n       -4.25991397e+01, -4.27976625e+01, -4.29965100e+01, -4.31956822e+01,\n       -4.33951790e+01, -4.35950004e+01, -4.37951465e+01, -4.39956172e+01,\n       -4.41964126e+01, -4.43975327e+01, -4.45989774e+01, -4.48007467e+01,\n       -4.50028407e+01, -4.52052593e+01, -4.54080026e+01, -4.56110705e+01,\n       -4.58144631e+01, -4.60181803e+01, -4.62222222e+01, -4.64265888e+01,\n       -4.66312799e+01, -4.68362958e+01, -4.70416362e+01, -4.72473014e+01,\n       -4.74532911e+01, -4.76596056e+01, -4.78662446e+01, -4.80732083e+01,\n       -4.82804967e+01, -4.84881097e+01, -4.86960474e+01, -4.89043097e+01,\n       -4.91128967e+01, -4.93218083e+01, -4.95310446e+01, -4.97406055e+01,\n       -4.99504910e+01, -5.01607012e+01, -5.03712361e+01, -5.05820956e+01,\n       -5.07932798e+01, -5.10047886e+01, -5.12166220e+01, -5.14287801e+01,\n       -5.16412629e+01, -5.18540703e+01, -5.20672023e+01, -5.22806590e+01,\n       -5.24944404e+01, -5.27085464e+01, -5.29229770e+01, -5.31377323e+01,\n       -5.33528123e+01, -5.35682169e+01, -5.37839461e+01, -5.40000000e+01,\n       -5.42163785e+01, -5.44330817e+01, -5.46501096e+01, -5.48674621e+01,\n       -5.50851392e+01, -5.53031410e+01, -5.55214674e+01, -5.57401185e+01,\n       -5.59590942e+01, -5.61783946e+01, -5.63980196e+01, -5.66179693e+01,\n       -5.68382436e+01, -5.70588426e+01, -5.72797663e+01, -5.75010145e+01,\n       -5.77225875e+01, -5.79444850e+01, -5.81667072e+01, -5.83892541e+01,\n       -5.86121256e+01, -5.88353218e+01, -5.90588426e+01, -5.92826881e+01,\n       -5.95068582e+01, -5.97313530e+01, -5.99561724e+01, -6.01813165e+01,\n       -6.04067852e+01, -6.06325785e+01, -6.08586965e+01, -6.10851392e+01,\n       -6.13119065e+01, -6.15389985e+01, -6.17664151e+01, -6.19941563e+01,\n       -6.22222222e+01, -6.24506128e+01, -6.26793280e+01, -6.29083678e+01,\n       -6.31377323e+01, -6.33674215e+01, -6.35974353e+01, -6.38277737e+01,\n       -6.40584368e+01, -6.42894246e+01, -6.45207370e+01, -6.47523740e+01,\n       -6.49843357e+01, -6.52166220e+01, -6.54492330e+01, -6.56821687e+01,\n       -6.59154289e+01, -6.61490139e+01, -6.63829235e+01, -6.66171577e+01,\n       -6.68517166e+01, -6.70866001e+01, -6.73218083e+01, -6.75573411e+01,\n       -6.77931986e+01, -6.80293807e+01, -6.82658875e+01, -6.85027189e+01,\n       -6.87398750e+01, -6.89773557e+01, -6.92151611e+01, -6.94532911e+01,\n       -6.96917458e+01, -6.99305251e+01, -7.01696291e+01, -7.04090577e+01,\n       -7.06488110e+01, -7.08888889e+01, -7.11292915e+01, -7.13700187e+01,\n       -7.16110705e+01, -7.18524470e+01, -7.20941482e+01, -7.23361740e+01,\n       -7.25785245e+01, -7.28211996e+01, -7.30641993e+01, -7.33075237e+01,\n       -7.35511728e+01, -7.37951465e+01, -7.40394449e+01, -7.42840679e+01,\n       -7.45290155e+01, -7.47742878e+01, -7.50198847e+01, -7.52658063e+01,\n       -7.55120526e+01, -7.57586235e+01, -7.60055190e+01, -7.62527392e+01,\n       -7.65002841e+01, -7.67481536e+01, -7.69963477e+01, -7.72448665e+01,\n       -7.74937099e+01, -7.77428780e+01, -7.79923707e+01, -7.82421881e+01,\n       -7.84923302e+01, -7.87427969e+01, -7.89935882e+01, -7.92447042e+01,\n       -7.94961448e+01, -7.97479101e+01, -8.00000000e+01, -8.02524146e+01,\n       -8.05051538e+01, -8.07582177e+01, -8.10116062e+01, -8.12653194e+01,\n       -8.15193572e+01, -8.17737197e+01, -8.20284068e+01, -8.22834186e+01,\n       -8.25387550e+01, -8.27944160e+01, -8.30504018e+01, -8.33067121e+01,\n       -8.35633471e+01, -8.38203068e+01, -8.40775911e+01, -8.43352001e+01,\n       -8.45931337e+01, -8.48513919e+01, -8.51099748e+01, -8.53688824e+01,\n       -8.56281146e+01, -8.58876715e+01, -8.61475530e+01, -8.64077591e+01,\n       -8.66682899e+01, -8.69291454e+01, -8.71903255e+01, -8.74518302e+01,\n       -8.77136596e+01, -8.79758137e+01, -8.82382923e+01, -8.85010957e+01,\n       -8.87642237e+01, -8.90276763e+01, -8.92914536e+01, -8.95555556e+01,\n       -8.98199821e+01, -9.00847334e+01, -9.03498093e+01, -9.06152098e+01,\n       -9.08809350e+01, -9.11469848e+01, -9.14133593e+01, -9.16800584e+01,\n       -9.19470822e+01, -9.22144306e+01, -9.24821037e+01, -9.27501015e+01,\n       -9.30184238e+01, -9.32870709e+01, -9.35560425e+01, -9.38253389e+01,\n       -9.40949598e+01, -9.43649054e+01, -9.46351757e+01, -9.49057706e+01,\n       -9.51766902e+01, -9.54479344e+01, -9.57195033e+01, -9.59913968e+01,\n       -9.62636150e+01, -9.65361578e+01, -9.68090252e+01, -9.70822174e+01,\n       -9.73557341e+01, -9.76295755e+01, -9.79037416e+01, -9.81782323e+01,\n       -9.84530476e+01, -9.87281876e+01, -9.90036523e+01, -9.92794416e+01,\n       -9.95555556e+01, -9.98319942e+01, -1.00108757e+02, -1.00385845e+02,\n       -1.00663258e+02, -1.00940995e+02, -1.01219057e+02, -1.01497443e+02,\n       -1.01776155e+02, -1.02055190e+02, -1.02334551e+02, -1.02614236e+02,\n       -1.02894246e+02, -1.03174580e+02, -1.03455239e+02, -1.03736223e+02,\n       -1.04017531e+02, -1.04299164e+02, -1.04581122e+02, -1.04863404e+02,\n       -1.05146011e+02, -1.05428942e+02, -1.05712199e+02, -1.05995780e+02,\n       -1.06279685e+02, -1.06563915e+02, -1.06848470e+02, -1.07133350e+02,\n       -1.07418554e+02, -1.07704082e+02, -1.07989936e+02, -1.08276114e+02,\n       -1.08562617e+02, -1.08849444e+02, -1.09136596e+02, -1.09424073e+02,\n       -1.09711874e+02, -1.10000000e+02, -1.10288451e+02, -1.10577226e+02,\n       -1.10866326e+02, -1.11155750e+02, -1.11445500e+02, -1.11735573e+02,\n       -1.12025972e+02, -1.12316695e+02, -1.12607743e+02, -1.12899115e+02,\n       -1.13190812e+02, -1.13482834e+02, -1.13775181e+02, -1.14067852e+02,\n       -1.14360847e+02, -1.14654168e+02, -1.14947813e+02, -1.15241782e+02,\n       -1.15536077e+02, -1.15830696e+02, -1.16125639e+02, -1.16420907e+02,\n       -1.16716500e+02, -1.17012418e+02, -1.17308660e+02, -1.17605227e+02,\n       -1.17902118e+02, -1.18199334e+02, -1.18496875e+02, -1.18794741e+02,\n       -1.19092931e+02, -1.19391445e+02, -1.19690285e+02, -1.19989449e+02,\n       -1.20288938e+02, -1.20588751e+02, -1.20888889e+02, -1.21189352e+02,\n       -1.21490139e+02, -1.21791251e+02, -1.22092687e+02, -1.22394449e+02,\n       -1.22696534e+02, -1.22998945e+02, -1.23301680e+02, -1.23604740e+02,\n       -1.23908124e+02, -1.24211833e+02, -1.24515867e+02, -1.24820226e+02,\n       -1.25124909e+02, -1.25429916e+02, -1.25735249e+02, -1.26040906e+02,\n       -1.26346887e+02, -1.26653194e+02, -1.26959825e+02, -1.27266780e+02,\n       -1.27574061e+02, -1.27881665e+02, -1.28189595e+02, -1.28497849e+02,\n       -1.28806428e+02, -1.29115332e+02, -1.29424560e+02, -1.29734112e+02,\n       -1.30043990e+02, -1.30354192e+02, -1.30664719e+02, -1.30975570e+02,\n       -1.31286746e+02, -1.31598247e+02, -1.31910072e+02, -1.32222222e+02,\n       -1.32534697e+02, -1.32847496e+02, -1.33160620e+02, -1.33474069e+02,\n       -1.33787842e+02, -1.34101940e+02, -1.34416362e+02, -1.34731109e+02,\n       -1.35046181e+02, -1.35361578e+02, -1.35677299e+02, -1.35993345e+02,\n       -1.36309715e+02, -1.36626410e+02, -1.36943430e+02, -1.37260774e+02,\n       -1.37578443e+02, -1.37896437e+02, -1.38214755e+02, -1.38533398e+02,\n       -1.38852366e+02, -1.39171658e+02, -1.39491275e+02, -1.39811217e+02,\n       -1.40131483e+02, -1.40452074e+02, -1.40772989e+02, -1.41094229e+02,\n       -1.41415794e+02, -1.41737684e+02, -1.42059898e+02, -1.42382436e+02,\n       -1.42705300e+02, -1.43028488e+02, -1.43352001e+02, -1.43675838e+02,\n       -1.44000000e+02, -1.44324487e+02, -1.44649298e+02, -1.44974434e+02,\n       -1.45299894e+02, -1.45625680e+02, -1.45951790e+02, -1.46278224e+02,\n       -1.46604983e+02, -1.46932067e+02, -1.47259476e+02, -1.47587209e+02,\n       -1.47915267e+02, -1.48243649e+02, -1.48572356e+02, -1.48901388e+02,\n       -1.49230744e+02, -1.49560425e+02, -1.49890431e+02, -1.50220761e+02,\n       -1.50551416e+02, -1.50882396e+02, -1.51213700e+02, -1.51545329e+02,\n       -1.51877283e+02, -1.52209561e+02, -1.52542164e+02, -1.52875091e+02,\n       -1.53208343e+02, -1.53541920e+02, -1.53875822e+02, -1.54210048e+02,\n       -1.54544599e+02, -1.54879474e+02, -1.55214674e+02, -1.55550199e+02,\n       -1.55886048e+02, -1.56222222e+02, -1.56558721e+02, -1.56895544e+02,\n       -1.57232692e+02, -1.57570165e+02, -1.57907962e+02, -1.58246084e+02,\n       -1.58584530e+02, -1.58923302e+02, -1.59262398e+02, -1.59601818e+02,\n       -1.59941563e+02, -1.60281633e+02, -1.60622027e+02, -1.60962747e+02,\n       -1.61303790e+02, -1.61645159e+02, -1.61986852e+02, -1.62328869e+02,\n       -1.62671212e+02, -1.63013879e+02, -1.63356870e+02, -1.63700187e+02,\n       -1.64043828e+02, -1.64387793e+02, -1.64732083e+02, -1.65076698e+02,\n       -1.65421638e+02, -1.65766902e+02, -1.66112491e+02, -1.66458404e+02,\n       -1.66804642e+02, -1.67151205e+02, -1.67498093e+02, -1.67845305e+02,\n       -1.68192841e+02, -1.68540703e+02, -1.68888889e+02, -1.69237400e+02,\n       -1.69586235e+02, -1.69935395e+02, -1.70284879e+02, -1.70634689e+02,\n       -1.70984823e+02, -1.71335281e+02, -1.71686064e+02, -1.72037172e+02,\n       -1.72388605e+02, -1.72740362e+02, -1.73092444e+02, -1.73444850e+02,\n       -1.73797581e+02, -1.74150637e+02, -1.74504018e+02, -1.74857723e+02,\n       -1.75211752e+02, -1.75566107e+02, -1.75920786e+02, -1.76275789e+02,\n       -1.76631118e+02, -1.76986771e+02, -1.77342748e+02, -1.77699050e+02,\n       -1.78055677e+02, -1.78412629e+02, -1.78769905e+02, -1.79127506e+02,\n       -1.79485431e+02, -1.79843682e+02, -1.80202256e+02, -1.80561156e+02,\n       -1.80920380e+02, -1.81279929e+02, -1.81639802e+02, -1.82000000e+02])",
     "output_type": "error",
     "traceback": [
      "\u001b[1;31m---------------------------------------------------------------------------\u001b[0m",
      "\u001b[1;31mTypeError\u001b[0m                                 Traceback (most recent call last)",
      "\u001b[1;32m~\\anaconda3\\lib\\site-packages\\sympy\\core\\cache.py\u001b[0m in \u001b[0;36mwrapper\u001b[1;34m(*args, **kwargs)\u001b[0m\n\u001b[0;32m     71\u001b[0m             \u001b[1;32mtry\u001b[0m\u001b[1;33m:\u001b[0m\u001b[1;33m\u001b[0m\u001b[1;33m\u001b[0m\u001b[0m\n\u001b[1;32m---> 72\u001b[1;33m                 \u001b[0mretval\u001b[0m \u001b[1;33m=\u001b[0m \u001b[0mcfunc\u001b[0m\u001b[1;33m(\u001b[0m\u001b[1;33m*\u001b[0m\u001b[0margs\u001b[0m\u001b[1;33m,\u001b[0m \u001b[1;33m**\u001b[0m\u001b[0mkwargs\u001b[0m\u001b[1;33m)\u001b[0m\u001b[1;33m\u001b[0m\u001b[1;33m\u001b[0m\u001b[0m\n\u001b[0m\u001b[0;32m     73\u001b[0m             \u001b[1;32mexcept\u001b[0m \u001b[0mTypeError\u001b[0m\u001b[1;33m:\u001b[0m\u001b[1;33m\u001b[0m\u001b[1;33m\u001b[0m\u001b[0m\n",
      "\u001b[1;31mTypeError\u001b[0m: unhashable type: 'numpy.ndarray'",
      "\nDuring handling of the above exception, another exception occurred:\n",
      "\u001b[1;31mSympifyError\u001b[0m                              Traceback (most recent call last)",
      "\u001b[1;32m<ipython-input-22-fd1839262b04>\u001b[0m in \u001b[0;36m<module>\u001b[1;34m\u001b[0m\n\u001b[0;32m      1\u001b[0m \u001b[0mxn\u001b[0m\u001b[1;33m=\u001b[0m \u001b[0mnp\u001b[0m\u001b[1;33m.\u001b[0m\u001b[0mlinspace\u001b[0m\u001b[1;33m(\u001b[0m\u001b[1;36m1\u001b[0m\u001b[1;33m,\u001b[0m\u001b[1;36m10\u001b[0m\u001b[1;33m,\u001b[0m\u001b[1;36m1000\u001b[0m\u001b[1;33m)\u001b[0m\u001b[1;33m\u001b[0m\u001b[1;33m\u001b[0m\u001b[0m\n\u001b[1;32m----> 2\u001b[1;33m \u001b[0myn\u001b[0m\u001b[1;33m=\u001b[0m \u001b[0mf\u001b[0m\u001b[1;33m(\u001b[0m\u001b[0mxn\u001b[0m\u001b[1;33m)\u001b[0m\u001b[1;33m\u001b[0m\u001b[1;33m\u001b[0m\u001b[0m\n\u001b[0m\u001b[0;32m      3\u001b[0m \u001b[0mdyn\u001b[0m\u001b[1;33m=\u001b[0m \u001b[0mdf\u001b[0m\u001b[1;33m(\u001b[0m\u001b[0mxn\u001b[0m\u001b[1;33m)\u001b[0m\u001b[1;33m\u001b[0m\u001b[1;33m\u001b[0m\u001b[0m\n\u001b[0;32m      4\u001b[0m \u001b[0mddyn\u001b[0m\u001b[1;33m=\u001b[0m \u001b[0mddf\u001b[0m\u001b[1;33m(\u001b[0m\u001b[0mxn\u001b[0m\u001b[1;33m)\u001b[0m\u001b[1;33m\u001b[0m\u001b[1;33m\u001b[0m\u001b[0m\n\u001b[0;32m      5\u001b[0m \u001b[0mplt\u001b[0m\u001b[1;33m.\u001b[0m\u001b[0mfigure\u001b[0m\u001b[1;33m(\u001b[0m\u001b[1;33m)\u001b[0m\u001b[1;33m\u001b[0m\u001b[1;33m\u001b[0m\u001b[0m\n",
      "\u001b[1;32m<ipython-input-16-35c13c3e1d68>\u001b[0m in \u001b[0;36mf\u001b[1;34m(x)\u001b[0m\n\u001b[0;32m      1\u001b[0m \u001b[1;32mdef\u001b[0m \u001b[0mf\u001b[0m\u001b[1;33m(\u001b[0m\u001b[0mx\u001b[0m\u001b[1;33m)\u001b[0m \u001b[1;33m:\u001b[0m\u001b[1;33m\u001b[0m\u001b[1;33m\u001b[0m\u001b[0m\n\u001b[1;32m----> 2\u001b[1;33m     \u001b[1;32mreturn\u001b[0m \u001b[1;36m6\u001b[0m\u001b[1;33m-\u001b[0m\u001b[1;36m2\u001b[0m\u001b[1;33m*\u001b[0m\u001b[0mx\u001b[0m\u001b[1;33m+\u001b[0m\u001b[0msp\u001b[0m\u001b[1;33m.\u001b[0m\u001b[0msqrt\u001b[0m\u001b[1;33m(\u001b[0m\u001b[1;36m18\u001b[0m\u001b[1;33m-\u001b[0m\u001b[1;36m2\u001b[0m\u001b[1;33m*\u001b[0m\u001b[0mx\u001b[0m\u001b[1;33m**\u001b[0m\u001b[1;36m2\u001b[0m\u001b[1;33m)\u001b[0m\u001b[1;33m\u001b[0m\u001b[1;33m\u001b[0m\u001b[0m\n\u001b[0m\u001b[0;32m      3\u001b[0m \u001b[0msp\u001b[0m\u001b[1;33m.\u001b[0m\u001b[0mvar\u001b[0m\u001b[1;33m(\u001b[0m\u001b[1;34m\"x\"\u001b[0m\u001b[1;33m)\u001b[0m\u001b[1;33m\u001b[0m\u001b[1;33m\u001b[0m\u001b[0m\n\u001b[0;32m      4\u001b[0m \u001b[0mf\u001b[0m\u001b[1;33m(\u001b[0m\u001b[0mx\u001b[0m\u001b[1;33m)\u001b[0m\u001b[1;33m\u001b[0m\u001b[1;33m\u001b[0m\u001b[0m\n",
      "\u001b[1;32m~\\anaconda3\\lib\\site-packages\\sympy\\functions\\elementary\\miscellaneous.py\u001b[0m in \u001b[0;36msqrt\u001b[1;34m(arg, evaluate)\u001b[0m\n\u001b[0;32m    149\u001b[0m     \"\"\"\n\u001b[0;32m    150\u001b[0m     \u001b[1;31m# arg = sympify(arg) is handled by Pow\u001b[0m\u001b[1;33m\u001b[0m\u001b[1;33m\u001b[0m\u001b[1;33m\u001b[0m\u001b[0m\n\u001b[1;32m--> 151\u001b[1;33m     \u001b[1;32mreturn\u001b[0m \u001b[0mPow\u001b[0m\u001b[1;33m(\u001b[0m\u001b[0marg\u001b[0m\u001b[1;33m,\u001b[0m \u001b[0mS\u001b[0m\u001b[1;33m.\u001b[0m\u001b[0mHalf\u001b[0m\u001b[1;33m,\u001b[0m \u001b[0mevaluate\u001b[0m\u001b[1;33m=\u001b[0m\u001b[0mevaluate\u001b[0m\u001b[1;33m)\u001b[0m\u001b[1;33m\u001b[0m\u001b[1;33m\u001b[0m\u001b[0m\n\u001b[0m\u001b[0;32m    152\u001b[0m \u001b[1;33m\u001b[0m\u001b[0m\n\u001b[0;32m    153\u001b[0m \u001b[1;33m\u001b[0m\u001b[0m\n",
      "\u001b[1;32m~\\anaconda3\\lib\\site-packages\\sympy\\core\\cache.py\u001b[0m in \u001b[0;36mwrapper\u001b[1;34m(*args, **kwargs)\u001b[0m\n\u001b[0;32m     72\u001b[0m                 \u001b[0mretval\u001b[0m \u001b[1;33m=\u001b[0m \u001b[0mcfunc\u001b[0m\u001b[1;33m(\u001b[0m\u001b[1;33m*\u001b[0m\u001b[0margs\u001b[0m\u001b[1;33m,\u001b[0m \u001b[1;33m**\u001b[0m\u001b[0mkwargs\u001b[0m\u001b[1;33m)\u001b[0m\u001b[1;33m\u001b[0m\u001b[1;33m\u001b[0m\u001b[0m\n\u001b[0;32m     73\u001b[0m             \u001b[1;32mexcept\u001b[0m \u001b[0mTypeError\u001b[0m\u001b[1;33m:\u001b[0m\u001b[1;33m\u001b[0m\u001b[1;33m\u001b[0m\u001b[0m\n\u001b[1;32m---> 74\u001b[1;33m                 \u001b[0mretval\u001b[0m \u001b[1;33m=\u001b[0m \u001b[0mfunc\u001b[0m\u001b[1;33m(\u001b[0m\u001b[1;33m*\u001b[0m\u001b[0margs\u001b[0m\u001b[1;33m,\u001b[0m \u001b[1;33m**\u001b[0m\u001b[0mkwargs\u001b[0m\u001b[1;33m)\u001b[0m\u001b[1;33m\u001b[0m\u001b[1;33m\u001b[0m\u001b[0m\n\u001b[0m\u001b[0;32m     75\u001b[0m             \u001b[1;32mreturn\u001b[0m \u001b[0mretval\u001b[0m\u001b[1;33m\u001b[0m\u001b[1;33m\u001b[0m\u001b[0m\n\u001b[0;32m     76\u001b[0m \u001b[1;33m\u001b[0m\u001b[0m\n",
      "\u001b[1;32m~\\anaconda3\\lib\\site-packages\\sympy\\core\\power.py\u001b[0m in \u001b[0;36m__new__\u001b[1;34m(cls, b, e, evaluate)\u001b[0m\n\u001b[0;32m    274\u001b[0m         \u001b[1;32mfrom\u001b[0m \u001b[0msympy\u001b[0m\u001b[1;33m.\u001b[0m\u001b[0mfunctions\u001b[0m\u001b[1;33m.\u001b[0m\u001b[0melementary\u001b[0m\u001b[1;33m.\u001b[0m\u001b[0mexponential\u001b[0m \u001b[1;32mimport\u001b[0m \u001b[0mexp_polar\u001b[0m\u001b[1;33m\u001b[0m\u001b[1;33m\u001b[0m\u001b[0m\n\u001b[0;32m    275\u001b[0m \u001b[1;33m\u001b[0m\u001b[0m\n\u001b[1;32m--> 276\u001b[1;33m         \u001b[0mb\u001b[0m \u001b[1;33m=\u001b[0m \u001b[0m_sympify\u001b[0m\u001b[1;33m(\u001b[0m\u001b[0mb\u001b[0m\u001b[1;33m)\u001b[0m\u001b[1;33m\u001b[0m\u001b[1;33m\u001b[0m\u001b[0m\n\u001b[0m\u001b[0;32m    277\u001b[0m         \u001b[0me\u001b[0m \u001b[1;33m=\u001b[0m \u001b[0m_sympify\u001b[0m\u001b[1;33m(\u001b[0m\u001b[0me\u001b[0m\u001b[1;33m)\u001b[0m\u001b[1;33m\u001b[0m\u001b[1;33m\u001b[0m\u001b[0m\n\u001b[0;32m    278\u001b[0m \u001b[1;33m\u001b[0m\u001b[0m\n",
      "\u001b[1;32m~\\anaconda3\\lib\\site-packages\\sympy\\core\\sympify.py\u001b[0m in \u001b[0;36m_sympify\u001b[1;34m(a)\u001b[0m\n\u001b[0;32m    510\u001b[0m \u001b[1;33m\u001b[0m\u001b[0m\n\u001b[0;32m    511\u001b[0m     \"\"\"\n\u001b[1;32m--> 512\u001b[1;33m     \u001b[1;32mreturn\u001b[0m \u001b[0msympify\u001b[0m\u001b[1;33m(\u001b[0m\u001b[0ma\u001b[0m\u001b[1;33m,\u001b[0m \u001b[0mstrict\u001b[0m\u001b[1;33m=\u001b[0m\u001b[1;32mTrue\u001b[0m\u001b[1;33m)\u001b[0m\u001b[1;33m\u001b[0m\u001b[1;33m\u001b[0m\u001b[0m\n\u001b[0m\u001b[0;32m    513\u001b[0m \u001b[1;33m\u001b[0m\u001b[0m\n\u001b[0;32m    514\u001b[0m \u001b[1;33m\u001b[0m\u001b[0m\n",
      "\u001b[1;32m~\\anaconda3\\lib\\site-packages\\sympy\\core\\sympify.py\u001b[0m in \u001b[0;36msympify\u001b[1;34m(a, locals, convert_xor, strict, rational, evaluate)\u001b[0m\n\u001b[0;32m    431\u001b[0m \u001b[1;33m\u001b[0m\u001b[0m\n\u001b[0;32m    432\u001b[0m     \u001b[1;32mif\u001b[0m \u001b[0mstrict\u001b[0m\u001b[1;33m:\u001b[0m\u001b[1;33m\u001b[0m\u001b[1;33m\u001b[0m\u001b[0m\n\u001b[1;32m--> 433\u001b[1;33m         \u001b[1;32mraise\u001b[0m \u001b[0mSympifyError\u001b[0m\u001b[1;33m(\u001b[0m\u001b[0ma\u001b[0m\u001b[1;33m)\u001b[0m\u001b[1;33m\u001b[0m\u001b[1;33m\u001b[0m\u001b[0m\n\u001b[0m\u001b[0;32m    434\u001b[0m \u001b[1;33m\u001b[0m\u001b[0m\n\u001b[0;32m    435\u001b[0m     \u001b[1;32mif\u001b[0m \u001b[0miterable\u001b[0m\u001b[1;33m(\u001b[0m\u001b[0ma\u001b[0m\u001b[1;33m)\u001b[0m\u001b[1;33m:\u001b[0m\u001b[1;33m\u001b[0m\u001b[1;33m\u001b[0m\u001b[0m\n",
      "\u001b[1;31mSympifyError\u001b[0m: SympifyError: array([ 1.60000000e+01,  1.59638016e+01,  1.59272786e+01,  1.58904310e+01,\n        1.58532587e+01,  1.58157617e+01,  1.57779401e+01,  1.57397938e+01,\n        1.57013229e+01,  1.56625274e+01,  1.56234072e+01,  1.55839623e+01,\n        1.55441928e+01,  1.55040987e+01,  1.54636799e+01,  1.54229364e+01,\n        1.53818684e+01,  1.53404756e+01,  1.52987582e+01,  1.52567162e+01,\n        1.52143495e+01,  1.51716581e+01,  1.51286422e+01,  1.50853015e+01,\n        1.50416362e+01,  1.49976463e+01,  1.49533317e+01,  1.49086925e+01,\n        1.48637286e+01,  1.48184401e+01,  1.47728269e+01,  1.47268891e+01,\n        1.46806266e+01,  1.46340394e+01,  1.45871277e+01,  1.45398912e+01,\n        1.44923302e+01,  1.44444444e+01,  1.43962341e+01,  1.43476991e+01,\n        1.42988394e+01,  1.42496551e+01,  1.42001461e+01,  1.41503125e+01,\n        1.41001542e+01,  1.40496713e+01,  1.39988637e+01,  1.39477315e+01,\n        1.38962747e+01,  1.38444931e+01,  1.37923870e+01,  1.37399562e+01,\n        1.36872007e+01,  1.36341206e+01,  1.35807159e+01,  1.35269864e+01,\n        1.34729324e+01,  1.34185537e+01,  1.33638503e+01,  1.33088223e+01,\n        1.32534697e+01,  1.31977924e+01,  1.31417904e+01,  1.30854638e+01,\n        1.30288126e+01,  1.29718367e+01,  1.29145362e+01,  1.28569110e+01,\n        1.27989611e+01,  1.27406866e+01,  1.26820875e+01,  1.26231637e+01,\n        1.25639153e+01,  1.25043422e+01,  1.24444444e+01,  1.23842221e+01,\n        1.23236750e+01,  1.22628033e+01,  1.22016070e+01,  1.21400860e+01,\n        1.20782404e+01,  1.20160701e+01,  1.19535752e+01,  1.18907556e+01,\n        1.18276114e+01,  1.17641425e+01,  1.17003490e+01,  1.16362308e+01,\n        1.15717880e+01,  1.15070205e+01,  1.14419284e+01,  1.13765116e+01,\n        1.13107702e+01,  1.12447042e+01,  1.11783134e+01,  1.11115981e+01,\n        1.10445581e+01,  1.09771934e+01,  1.09095041e+01,  1.08414901e+01,\n        1.07731515e+01,  1.07044883e+01,  1.06355004e+01,  1.05661878e+01,\n        1.04965506e+01,  1.04265888e+01,  1.03563022e+01,  1.02856911e+01,\n        1.02147553e+01,  1.01434948e+01,  1.00719097e+01,  1.00000000e+01,\n        9.92776560e+00,  9.85520656e+00,  9.78232286e+00,  9.70911452e+00,\n        9.63558153e+00,  9.56172389e+00,  9.48754160e+00,  9.41303466e+00,\n        9.33820307e+00,  9.26304683e+00,  9.18756594e+00,  9.11176041e+00,\n        9.03563022e+00,  8.95917539e+00,  8.88239591e+00,  8.80529178e+00,\n        8.72786300e+00,  8.65010957e+00,  8.57203149e+00,  8.49362876e+00,\n        8.41490139e+00,  8.33584936e+00,  8.25647269e+00,  8.17677137e+00,\n        8.09674539e+00,  8.01639477e+00,  7.93571950e+00,  7.85471958e+00,\n        7.77339502e+00,  7.69174580e+00,  7.60977193e+00,  7.52747342e+00,\n        7.44485026e+00,  7.36190244e+00,  7.27862998e+00,  7.19503287e+00,\n        7.11111111e+00,  7.02686470e+00,  6.94229364e+00,  6.85739794e+00,\n        6.77217758e+00,  6.68663258e+00,  6.60076293e+00,  6.51456862e+00,\n        6.42804967e+00,  6.34120607e+00,  6.25403782e+00,  6.16654492e+00,\n        6.07872738e+00,  5.99058518e+00,  5.90211833e+00,  5.81332684e+00,\n        5.72421070e+00,  5.63476991e+00,  5.54500446e+00,  5.45491437e+00,\n        5.36449963e+00,  5.27376025e+00,  5.18269621e+00,  5.09130752e+00,\n        4.99959419e+00,  4.90755620e+00,  4.81519357e+00,  4.72250629e+00,\n        4.62949436e+00,  4.53615778e+00,  4.44249655e+00,  4.34851067e+00,\n        4.25420015e+00,  4.15956497e+00,  4.06460515e+00,  3.96932067e+00,\n        3.87371155e+00,  3.77777778e+00,  3.68151936e+00,  3.58493629e+00,\n        3.48802857e+00,  3.39079620e+00,  3.29323919e+00,  3.19535752e+00,\n        3.09715121e+00,  2.99862024e+00,  2.89976463e+00,  2.80058437e+00,\n        2.70107946e+00,  2.60124990e+00,  2.50109569e+00,  2.40061683e+00,\n        2.29981333e+00,  2.19868517e+00,  2.09723237e+00,  1.99545491e+00,\n        1.89335281e+00,  1.79092606e+00,  1.68817466e+00,  1.58509861e+00,\n        1.48169791e+00,  1.37797257e+00,  1.27392257e+00,  1.16954793e+00,\n        1.06484863e+00,  9.59824690e-01,  8.54476098e-01,  7.48802857e-01,\n        6.42804967e-01,  5.36482428e-01,  4.29835241e-01,  3.22863404e-01,\n        2.15566918e-01,  1.07945784e-01,  0.00000000e+00, -1.08270433e-01,\n       -2.16865514e-01, -3.25785245e-01, -4.35029624e-01, -5.44598653e-01,\n       -6.54492330e-01, -7.64710657e-01, -8.75253632e-01, -9.86121256e-01,\n       -1.09731353e+00, -1.20883045e+00, -1.32067202e+00, -1.43283824e+00,\n       -1.54532911e+00, -1.65814463e+00, -1.77128480e+00, -1.88474961e+00,\n       -1.99853908e+00, -2.11265319e+00, -2.22709196e+00, -2.34185537e+00,\n       -2.45694343e+00, -2.57235614e+00, -2.68809350e+00, -2.80415551e+00,\n       -2.92054216e+00, -3.03725347e+00, -3.15428942e+00, -3.27165003e+00,\n       -3.38933528e+00, -3.50734518e+00, -3.62567973e+00, -3.74433893e+00,\n       -3.86332278e+00, -3.98263128e+00, -4.10226443e+00, -4.22222222e+00,\n       -4.34250467e+00, -4.46311176e+00, -4.58404350e+00, -4.70529989e+00,\n       -4.82688093e+00, -4.94878662e+00, -5.07101696e+00, -5.19357195e+00,\n       -5.31645159e+00, -5.43965587e+00, -5.56318481e+00, -5.68703839e+00,\n       -5.81121662e+00, -5.93571950e+00, -6.06054703e+00, -6.18569921e+00,\n       -6.31117604e+00, -6.43697752e+00, -6.56310364e+00, -6.68955442e+00,\n       -6.81632984e+00, -6.94342992e+00, -7.07085464e+00, -7.19860401e+00,\n       -7.32667803e+00, -7.45507670e+00, -7.58380002e+00, -7.71284798e+00,\n       -7.84222060e+00, -7.97191786e+00, -8.10193978e+00, -8.23228634e+00,\n       -8.36295755e+00, -8.49395341e+00, -8.62527392e+00, -8.75691908e+00,\n       -8.88888889e+00, -9.02118335e+00, -9.15380245e+00, -9.28674621e+00,\n       -9.42001461e+00, -9.55360766e+00, -9.68752536e+00, -9.82176771e+00,\n       -9.95633471e+00, -1.00912264e+01, -1.02264427e+01, -1.03619836e+01,\n       -1.04978492e+01, -1.06340394e+01, -1.07705543e+01, -1.09073939e+01,\n       -1.10445581e+01, -1.11820469e+01, -1.13198604e+01, -1.14579985e+01,\n       -1.15964613e+01, -1.17352488e+01, -1.18743608e+01, -1.20137976e+01,\n       -1.21535590e+01, -1.22936450e+01, -1.24340557e+01, -1.25747910e+01,\n       -1.27158510e+01, -1.28572356e+01, -1.29989449e+01, -1.31409788e+01,\n       -1.32833374e+01, -1.34260206e+01, -1.35690285e+01, -1.37123610e+01,\n       -1.38560182e+01, -1.40000000e+01, -1.41443065e+01, -1.42889376e+01,\n       -1.44338934e+01, -1.45791738e+01, -1.47247788e+01, -1.48707085e+01,\n       -1.50169629e+01, -1.51635419e+01, -1.53104456e+01, -1.54576739e+01,\n       -1.56052268e+01, -1.57531045e+01, -1.59013067e+01, -1.60498336e+01,\n       -1.61986852e+01, -1.63478614e+01, -1.64973622e+01, -1.66471877e+01,\n       -1.67973379e+01, -1.69478127e+01, -1.70986121e+01, -1.72497362e+01,\n       -1.74011850e+01, -1.75529584e+01, -1.77050564e+01, -1.78574791e+01,\n       -1.80102264e+01, -1.81632984e+01, -1.83166951e+01, -1.84704164e+01,\n       -1.86244623e+01, -1.87788329e+01, -1.89335281e+01, -1.90885480e+01,\n       -1.92438925e+01, -1.93995617e+01, -1.95555556e+01, -1.97118740e+01,\n       -1.98685172e+01, -2.00254849e+01, -2.01827774e+01, -2.03403944e+01,\n       -2.04983362e+01, -2.06566025e+01, -2.08151936e+01, -2.09741092e+01,\n       -2.11333496e+01, -2.12929145e+01, -2.14528042e+01, -2.16130184e+01,\n       -2.17735573e+01, -2.19344209e+01, -2.20956091e+01, -2.22571220e+01,\n       -2.24189595e+01, -2.25811217e+01, -2.27436085e+01, -2.29064199e+01,\n       -2.30695560e+01, -2.32330168e+01, -2.33968022e+01, -2.35609123e+01,\n       -2.37253470e+01, -2.38901063e+01, -2.40551903e+01, -2.42205990e+01,\n       -2.43863323e+01, -2.45523902e+01, -2.47187728e+01, -2.48854801e+01,\n       -2.50525120e+01, -2.52198685e+01, -2.53875497e+01, -2.55555556e+01,\n       -2.57238860e+01, -2.58925412e+01, -2.60615210e+01, -2.62308254e+01,\n       -2.64004545e+01, -2.65704082e+01, -2.67406866e+01, -2.69112897e+01,\n       -2.70822174e+01, -2.72534697e+01, -2.74250467e+01, -2.75969483e+01,\n       -2.77691746e+01, -2.79417255e+01, -2.81146011e+01, -2.82878013e+01,\n       -2.84613262e+01, -2.86351757e+01, -2.88093499e+01, -2.89838487e+01,\n       -2.91586722e+01, -2.93338203e+01, -2.95092931e+01, -2.96850905e+01,\n       -2.98612126e+01, -3.00376593e+01, -3.02144306e+01, -3.03915267e+01,\n       -3.05689473e+01, -3.07466926e+01, -3.09247626e+01, -3.11031572e+01,\n       -3.12818765e+01, -3.14609204e+01, -3.16402889e+01, -3.18199821e+01,\n       -3.20000000e+01, -3.21803425e+01, -3.23610097e+01, -3.25420015e+01,\n       -3.27233179e+01, -3.29049590e+01, -3.30869248e+01, -3.32692152e+01,\n       -3.34518302e+01, -3.36347699e+01, -3.38180343e+01, -3.40016232e+01,\n       -3.41855369e+01, -3.43697752e+01, -3.45543381e+01, -3.47392257e+01,\n       -3.49244380e+01, -3.51099748e+01, -3.52958364e+01, -3.54820226e+01,\n       -3.56685334e+01, -3.58553689e+01, -3.60425290e+01, -3.62300138e+01,\n       -3.64178232e+01, -3.66059573e+01, -3.67944160e+01, -3.69831994e+01,\n       -3.71723074e+01, -3.73617401e+01, -3.75514974e+01, -3.77415794e+01,\n       -3.79319860e+01, -3.81227173e+01, -3.83137732e+01, -3.85051538e+01,\n       -3.86968590e+01, -3.88888889e+01, -3.90812434e+01, -3.92739226e+01,\n       -3.94669264e+01, -3.96602548e+01, -3.98539080e+01, -4.00478857e+01,\n       -4.02421881e+01, -4.04368152e+01, -4.06317669e+01, -4.08270433e+01,\n       -4.10226443e+01, -4.12185699e+01, -4.14148202e+01, -4.16113952e+01,\n       -4.18082948e+01, -4.20055190e+01, -4.22030679e+01, -4.24009415e+01,\n       -4.25991397e+01, -4.27976625e+01, -4.29965100e+01, -4.31956822e+01,\n       -4.33951790e+01, -4.35950004e+01, -4.37951465e+01, -4.39956172e+01,\n       -4.41964126e+01, -4.43975327e+01, -4.45989774e+01, -4.48007467e+01,\n       -4.50028407e+01, -4.52052593e+01, -4.54080026e+01, -4.56110705e+01,\n       -4.58144631e+01, -4.60181803e+01, -4.62222222e+01, -4.64265888e+01,\n       -4.66312799e+01, -4.68362958e+01, -4.70416362e+01, -4.72473014e+01,\n       -4.74532911e+01, -4.76596056e+01, -4.78662446e+01, -4.80732083e+01,\n       -4.82804967e+01, -4.84881097e+01, -4.86960474e+01, -4.89043097e+01,\n       -4.91128967e+01, -4.93218083e+01, -4.95310446e+01, -4.97406055e+01,\n       -4.99504910e+01, -5.01607012e+01, -5.03712361e+01, -5.05820956e+01,\n       -5.07932798e+01, -5.10047886e+01, -5.12166220e+01, -5.14287801e+01,\n       -5.16412629e+01, -5.18540703e+01, -5.20672023e+01, -5.22806590e+01,\n       -5.24944404e+01, -5.27085464e+01, -5.29229770e+01, -5.31377323e+01,\n       -5.33528123e+01, -5.35682169e+01, -5.37839461e+01, -5.40000000e+01,\n       -5.42163785e+01, -5.44330817e+01, -5.46501096e+01, -5.48674621e+01,\n       -5.50851392e+01, -5.53031410e+01, -5.55214674e+01, -5.57401185e+01,\n       -5.59590942e+01, -5.61783946e+01, -5.63980196e+01, -5.66179693e+01,\n       -5.68382436e+01, -5.70588426e+01, -5.72797663e+01, -5.75010145e+01,\n       -5.77225875e+01, -5.79444850e+01, -5.81667072e+01, -5.83892541e+01,\n       -5.86121256e+01, -5.88353218e+01, -5.90588426e+01, -5.92826881e+01,\n       -5.95068582e+01, -5.97313530e+01, -5.99561724e+01, -6.01813165e+01,\n       -6.04067852e+01, -6.06325785e+01, -6.08586965e+01, -6.10851392e+01,\n       -6.13119065e+01, -6.15389985e+01, -6.17664151e+01, -6.19941563e+01,\n       -6.22222222e+01, -6.24506128e+01, -6.26793280e+01, -6.29083678e+01,\n       -6.31377323e+01, -6.33674215e+01, -6.35974353e+01, -6.38277737e+01,\n       -6.40584368e+01, -6.42894246e+01, -6.45207370e+01, -6.47523740e+01,\n       -6.49843357e+01, -6.52166220e+01, -6.54492330e+01, -6.56821687e+01,\n       -6.59154289e+01, -6.61490139e+01, -6.63829235e+01, -6.66171577e+01,\n       -6.68517166e+01, -6.70866001e+01, -6.73218083e+01, -6.75573411e+01,\n       -6.77931986e+01, -6.80293807e+01, -6.82658875e+01, -6.85027189e+01,\n       -6.87398750e+01, -6.89773557e+01, -6.92151611e+01, -6.94532911e+01,\n       -6.96917458e+01, -6.99305251e+01, -7.01696291e+01, -7.04090577e+01,\n       -7.06488110e+01, -7.08888889e+01, -7.11292915e+01, -7.13700187e+01,\n       -7.16110705e+01, -7.18524470e+01, -7.20941482e+01, -7.23361740e+01,\n       -7.25785245e+01, -7.28211996e+01, -7.30641993e+01, -7.33075237e+01,\n       -7.35511728e+01, -7.37951465e+01, -7.40394449e+01, -7.42840679e+01,\n       -7.45290155e+01, -7.47742878e+01, -7.50198847e+01, -7.52658063e+01,\n       -7.55120526e+01, -7.57586235e+01, -7.60055190e+01, -7.62527392e+01,\n       -7.65002841e+01, -7.67481536e+01, -7.69963477e+01, -7.72448665e+01,\n       -7.74937099e+01, -7.77428780e+01, -7.79923707e+01, -7.82421881e+01,\n       -7.84923302e+01, -7.87427969e+01, -7.89935882e+01, -7.92447042e+01,\n       -7.94961448e+01, -7.97479101e+01, -8.00000000e+01, -8.02524146e+01,\n       -8.05051538e+01, -8.07582177e+01, -8.10116062e+01, -8.12653194e+01,\n       -8.15193572e+01, -8.17737197e+01, -8.20284068e+01, -8.22834186e+01,\n       -8.25387550e+01, -8.27944160e+01, -8.30504018e+01, -8.33067121e+01,\n       -8.35633471e+01, -8.38203068e+01, -8.40775911e+01, -8.43352001e+01,\n       -8.45931337e+01, -8.48513919e+01, -8.51099748e+01, -8.53688824e+01,\n       -8.56281146e+01, -8.58876715e+01, -8.61475530e+01, -8.64077591e+01,\n       -8.66682899e+01, -8.69291454e+01, -8.71903255e+01, -8.74518302e+01,\n       -8.77136596e+01, -8.79758137e+01, -8.82382923e+01, -8.85010957e+01,\n       -8.87642237e+01, -8.90276763e+01, -8.92914536e+01, -8.95555556e+01,\n       -8.98199821e+01, -9.00847334e+01, -9.03498093e+01, -9.06152098e+01,\n       -9.08809350e+01, -9.11469848e+01, -9.14133593e+01, -9.16800584e+01,\n       -9.19470822e+01, -9.22144306e+01, -9.24821037e+01, -9.27501015e+01,\n       -9.30184238e+01, -9.32870709e+01, -9.35560425e+01, -9.38253389e+01,\n       -9.40949598e+01, -9.43649054e+01, -9.46351757e+01, -9.49057706e+01,\n       -9.51766902e+01, -9.54479344e+01, -9.57195033e+01, -9.59913968e+01,\n       -9.62636150e+01, -9.65361578e+01, -9.68090252e+01, -9.70822174e+01,\n       -9.73557341e+01, -9.76295755e+01, -9.79037416e+01, -9.81782323e+01,\n       -9.84530476e+01, -9.87281876e+01, -9.90036523e+01, -9.92794416e+01,\n       -9.95555556e+01, -9.98319942e+01, -1.00108757e+02, -1.00385845e+02,\n       -1.00663258e+02, -1.00940995e+02, -1.01219057e+02, -1.01497443e+02,\n       -1.01776155e+02, -1.02055190e+02, -1.02334551e+02, -1.02614236e+02,\n       -1.02894246e+02, -1.03174580e+02, -1.03455239e+02, -1.03736223e+02,\n       -1.04017531e+02, -1.04299164e+02, -1.04581122e+02, -1.04863404e+02,\n       -1.05146011e+02, -1.05428942e+02, -1.05712199e+02, -1.05995780e+02,\n       -1.06279685e+02, -1.06563915e+02, -1.06848470e+02, -1.07133350e+02,\n       -1.07418554e+02, -1.07704082e+02, -1.07989936e+02, -1.08276114e+02,\n       -1.08562617e+02, -1.08849444e+02, -1.09136596e+02, -1.09424073e+02,\n       -1.09711874e+02, -1.10000000e+02, -1.10288451e+02, -1.10577226e+02,\n       -1.10866326e+02, -1.11155750e+02, -1.11445500e+02, -1.11735573e+02,\n       -1.12025972e+02, -1.12316695e+02, -1.12607743e+02, -1.12899115e+02,\n       -1.13190812e+02, -1.13482834e+02, -1.13775181e+02, -1.14067852e+02,\n       -1.14360847e+02, -1.14654168e+02, -1.14947813e+02, -1.15241782e+02,\n       -1.15536077e+02, -1.15830696e+02, -1.16125639e+02, -1.16420907e+02,\n       -1.16716500e+02, -1.17012418e+02, -1.17308660e+02, -1.17605227e+02,\n       -1.17902118e+02, -1.18199334e+02, -1.18496875e+02, -1.18794741e+02,\n       -1.19092931e+02, -1.19391445e+02, -1.19690285e+02, -1.19989449e+02,\n       -1.20288938e+02, -1.20588751e+02, -1.20888889e+02, -1.21189352e+02,\n       -1.21490139e+02, -1.21791251e+02, -1.22092687e+02, -1.22394449e+02,\n       -1.22696534e+02, -1.22998945e+02, -1.23301680e+02, -1.23604740e+02,\n       -1.23908124e+02, -1.24211833e+02, -1.24515867e+02, -1.24820226e+02,\n       -1.25124909e+02, -1.25429916e+02, -1.25735249e+02, -1.26040906e+02,\n       -1.26346887e+02, -1.26653194e+02, -1.26959825e+02, -1.27266780e+02,\n       -1.27574061e+02, -1.27881665e+02, -1.28189595e+02, -1.28497849e+02,\n       -1.28806428e+02, -1.29115332e+02, -1.29424560e+02, -1.29734112e+02,\n       -1.30043990e+02, -1.30354192e+02, -1.30664719e+02, -1.30975570e+02,\n       -1.31286746e+02, -1.31598247e+02, -1.31910072e+02, -1.32222222e+02,\n       -1.32534697e+02, -1.32847496e+02, -1.33160620e+02, -1.33474069e+02,\n       -1.33787842e+02, -1.34101940e+02, -1.34416362e+02, -1.34731109e+02,\n       -1.35046181e+02, -1.35361578e+02, -1.35677299e+02, -1.35993345e+02,\n       -1.36309715e+02, -1.36626410e+02, -1.36943430e+02, -1.37260774e+02,\n       -1.37578443e+02, -1.37896437e+02, -1.38214755e+02, -1.38533398e+02,\n       -1.38852366e+02, -1.39171658e+02, -1.39491275e+02, -1.39811217e+02,\n       -1.40131483e+02, -1.40452074e+02, -1.40772989e+02, -1.41094229e+02,\n       -1.41415794e+02, -1.41737684e+02, -1.42059898e+02, -1.42382436e+02,\n       -1.42705300e+02, -1.43028488e+02, -1.43352001e+02, -1.43675838e+02,\n       -1.44000000e+02, -1.44324487e+02, -1.44649298e+02, -1.44974434e+02,\n       -1.45299894e+02, -1.45625680e+02, -1.45951790e+02, -1.46278224e+02,\n       -1.46604983e+02, -1.46932067e+02, -1.47259476e+02, -1.47587209e+02,\n       -1.47915267e+02, -1.48243649e+02, -1.48572356e+02, -1.48901388e+02,\n       -1.49230744e+02, -1.49560425e+02, -1.49890431e+02, -1.50220761e+02,\n       -1.50551416e+02, -1.50882396e+02, -1.51213700e+02, -1.51545329e+02,\n       -1.51877283e+02, -1.52209561e+02, -1.52542164e+02, -1.52875091e+02,\n       -1.53208343e+02, -1.53541920e+02, -1.53875822e+02, -1.54210048e+02,\n       -1.54544599e+02, -1.54879474e+02, -1.55214674e+02, -1.55550199e+02,\n       -1.55886048e+02, -1.56222222e+02, -1.56558721e+02, -1.56895544e+02,\n       -1.57232692e+02, -1.57570165e+02, -1.57907962e+02, -1.58246084e+02,\n       -1.58584530e+02, -1.58923302e+02, -1.59262398e+02, -1.59601818e+02,\n       -1.59941563e+02, -1.60281633e+02, -1.60622027e+02, -1.60962747e+02,\n       -1.61303790e+02, -1.61645159e+02, -1.61986852e+02, -1.62328869e+02,\n       -1.62671212e+02, -1.63013879e+02, -1.63356870e+02, -1.63700187e+02,\n       -1.64043828e+02, -1.64387793e+02, -1.64732083e+02, -1.65076698e+02,\n       -1.65421638e+02, -1.65766902e+02, -1.66112491e+02, -1.66458404e+02,\n       -1.66804642e+02, -1.67151205e+02, -1.67498093e+02, -1.67845305e+02,\n       -1.68192841e+02, -1.68540703e+02, -1.68888889e+02, -1.69237400e+02,\n       -1.69586235e+02, -1.69935395e+02, -1.70284879e+02, -1.70634689e+02,\n       -1.70984823e+02, -1.71335281e+02, -1.71686064e+02, -1.72037172e+02,\n       -1.72388605e+02, -1.72740362e+02, -1.73092444e+02, -1.73444850e+02,\n       -1.73797581e+02, -1.74150637e+02, -1.74504018e+02, -1.74857723e+02,\n       -1.75211752e+02, -1.75566107e+02, -1.75920786e+02, -1.76275789e+02,\n       -1.76631118e+02, -1.76986771e+02, -1.77342748e+02, -1.77699050e+02,\n       -1.78055677e+02, -1.78412629e+02, -1.78769905e+02, -1.79127506e+02,\n       -1.79485431e+02, -1.79843682e+02, -1.80202256e+02, -1.80561156e+02,\n       -1.80920380e+02, -1.81279929e+02, -1.81639802e+02, -1.82000000e+02])"
     ]
    }
   ],
   "source": [
    "xn= np.linspace(1,10,1000)\n",
    "yn= f(xn)\n",
    "dyn= df(xn)\n",
    "ddyn= ddf(xn)\n",
    "plt.figure()\n",
    "plt.plot(xn, yn)\n",
    "plt.plot(xn, dyn)\n",
    "plt.grid()"
   ]
  },
  {
   "cell_type": "code",
   "execution_count": null,
   "metadata": {},
   "outputs": [],
   "source": []
  },
  {
   "cell_type": "code",
   "execution_count": null,
   "metadata": {},
   "outputs": [],
   "source": []
  },
  {
   "cell_type": "markdown",
   "metadata": {},
   "source": [
    "$f(x)=\\frac{1}{4}x^4+\\frac{1}{3}x^3-x^2$ en el intervalo $[-3,1.7]$"
   ]
  },
  {
   "cell_type": "code",
   "execution_count": 27,
   "metadata": {},
   "outputs": [
    {
     "data": {
      "text/latex": [
       "$\\displaystyle 0.25 x^{4} + 0.333333333333333 x^{3} - 2 x$"
      ],
      "text/plain": [
       "0.25*x**4 + 0.333333333333333*x**3 - 2*x"
      ]
     },
     "execution_count": 27,
     "metadata": {},
     "output_type": "execute_result"
    }
   ],
   "source": [
    "def f(x) :\n",
    "    return 1/4*x**4+1/3*x**3-x*2\n",
    "sp.var(\"x\")\n",
    "f(x)\n",
    "1/4*x**4+1/3*x**3-x*2"
   ]
  },
  {
   "cell_type": "code",
   "execution_count": 28,
   "metadata": {},
   "outputs": [
    {
     "data": {
      "text/latex": [
       "$\\displaystyle 1.0 x^{3} + 1.0 x^{2} - 2$"
      ],
      "text/plain": [
       "1.0*x**3 + 1.0*x**2 - 2"
      ]
     },
     "execution_count": 28,
     "metadata": {},
     "output_type": "execute_result"
    }
   ],
   "source": [
    "df= sp.diff (f(x),x)\n",
    "df"
   ]
  },
  {
   "cell_type": "code",
   "execution_count": 29,
   "metadata": {},
   "outputs": [
    {
     "data": {
      "text/plain": [
       "[1.00000000000000, -1.0 - 1.0*I, -1.0 + 1.0*I]"
      ]
     },
     "execution_count": 29,
     "metadata": {},
     "output_type": "execute_result"
    }
   ],
   "source": [
    "sp.solve(df,x)"
   ]
  },
  {
   "cell_type": "code",
   "execution_count": 30,
   "metadata": {},
   "outputs": [
    {
     "data": {
      "text/latex": [
       "$\\displaystyle 3.0 x^{2} + 2.0 x$"
      ],
      "text/plain": [
       "3.0*x**2 + 2.0*x"
      ]
     },
     "execution_count": 30,
     "metadata": {},
     "output_type": "execute_result"
    }
   ],
   "source": [
    "dff=sp.diff(df,x)\n",
    "dff"
   ]
  },
  {
   "cell_type": "code",
   "execution_count": 31,
   "metadata": {},
   "outputs": [
    {
     "data": {
      "text/latex": [
       "$\\displaystyle x \\left(3.0 x + 2.0\\right)$"
      ],
      "text/plain": [
       "x*(3.0*x + 2.0)"
      ]
     },
     "execution_count": 31,
     "metadata": {},
     "output_type": "execute_result"
    }
   ],
   "source": [
    "sp.diff(f(x),x,2)"
   ]
  },
  {
   "cell_type": "code",
   "execution_count": 58,
   "metadata": {},
   "outputs": [],
   "source": [
    "import matplotlib.pyplot as plt\n",
    "def df(x): \n",
    "    return x**3+x**2-2\n",
    "def ddf(x):\n",
    "    return x(3*x+2)"
   ]
  },
  {
   "cell_type": "code",
   "execution_count": 60,
   "metadata": {},
   "outputs": [
    {
     "ename": "TypeError",
     "evalue": "'numpy.ndarray' object is not callable",
     "output_type": "error",
     "traceback": [
      "\u001b[1;31m---------------------------------------------------------------------------\u001b[0m",
      "\u001b[1;31mTypeError\u001b[0m                                 Traceback (most recent call last)",
      "\u001b[1;32m<ipython-input-60-78d24959c4b8>\u001b[0m in \u001b[0;36m<module>\u001b[1;34m\u001b[0m\n\u001b[0;32m      2\u001b[0m \u001b[0myn\u001b[0m\u001b[1;33m=\u001b[0m \u001b[0mf\u001b[0m\u001b[1;33m(\u001b[0m\u001b[0mxn\u001b[0m\u001b[1;33m)\u001b[0m\u001b[1;33m\u001b[0m\u001b[1;33m\u001b[0m\u001b[0m\n\u001b[0;32m      3\u001b[0m \u001b[0mdyn\u001b[0m\u001b[1;33m=\u001b[0m \u001b[0mdf\u001b[0m\u001b[1;33m(\u001b[0m\u001b[0mxn\u001b[0m\u001b[1;33m)\u001b[0m\u001b[1;33m\u001b[0m\u001b[1;33m\u001b[0m\u001b[0m\n\u001b[1;32m----> 4\u001b[1;33m \u001b[0mddyn\u001b[0m\u001b[1;33m=\u001b[0m \u001b[0mddf\u001b[0m\u001b[1;33m(\u001b[0m\u001b[0mxn\u001b[0m\u001b[1;33m)\u001b[0m\u001b[1;33m\u001b[0m\u001b[1;33m\u001b[0m\u001b[0m\n\u001b[0m\u001b[0;32m      5\u001b[0m \u001b[0mplt\u001b[0m\u001b[1;33m.\u001b[0m\u001b[0mfigure\u001b[0m\u001b[1;33m(\u001b[0m\u001b[1;33m)\u001b[0m\u001b[1;33m\u001b[0m\u001b[1;33m\u001b[0m\u001b[0m\n\u001b[0;32m      6\u001b[0m \u001b[0mplt\u001b[0m\u001b[1;33m.\u001b[0m\u001b[0mplot\u001b[0m\u001b[1;33m(\u001b[0m\u001b[0mxn\u001b[0m\u001b[1;33m,\u001b[0m \u001b[0myn\u001b[0m\u001b[1;33m)\u001b[0m\u001b[1;33m\u001b[0m\u001b[1;33m\u001b[0m\u001b[0m\n",
      "\u001b[1;32m<ipython-input-58-5492d0ea6d37>\u001b[0m in \u001b[0;36mddf\u001b[1;34m(x)\u001b[0m\n\u001b[0;32m      3\u001b[0m     \u001b[1;32mreturn\u001b[0m \u001b[0mx\u001b[0m\u001b[1;33m**\u001b[0m\u001b[1;36m3\u001b[0m\u001b[1;33m+\u001b[0m\u001b[0mx\u001b[0m\u001b[1;33m**\u001b[0m\u001b[1;36m2\u001b[0m\u001b[1;33m-\u001b[0m\u001b[1;36m2\u001b[0m\u001b[1;33m\u001b[0m\u001b[1;33m\u001b[0m\u001b[0m\n\u001b[0;32m      4\u001b[0m \u001b[1;32mdef\u001b[0m \u001b[0mddf\u001b[0m\u001b[1;33m(\u001b[0m\u001b[0mx\u001b[0m\u001b[1;33m)\u001b[0m\u001b[1;33m:\u001b[0m\u001b[1;33m\u001b[0m\u001b[1;33m\u001b[0m\u001b[0m\n\u001b[1;32m----> 5\u001b[1;33m     \u001b[1;32mreturn\u001b[0m \u001b[0mx\u001b[0m\u001b[1;33m(\u001b[0m\u001b[1;36m3\u001b[0m\u001b[1;33m*\u001b[0m\u001b[0mx\u001b[0m\u001b[1;33m+\u001b[0m\u001b[1;36m2\u001b[0m\u001b[1;33m)\u001b[0m\u001b[1;33m\u001b[0m\u001b[1;33m\u001b[0m\u001b[0m\n\u001b[0m",
      "\u001b[1;31mTypeError\u001b[0m: 'numpy.ndarray' object is not callable"
     ]
    }
   ],
   "source": [
    "xn= np.linspace(-3,17,1000)\n",
    "yn= f(xn)\n",
    "dyn= df(xn)\n",
    "ddyn= ddf(xn)\n",
    "plt.figure()\n",
    "plt.plot(xn, yn)\n",
    "plt.plot(xn, dyn)\n",
    "plt.grid()"
   ]
  },
  {
   "cell_type": "code",
   "execution_count": null,
   "metadata": {},
   "outputs": [],
   "source": []
  },
  {
   "cell_type": "code",
   "execution_count": null,
   "metadata": {},
   "outputs": [],
   "source": [
    "#en este se ve por la grafica que es un minimo ya que va vajando exponencialmente"
   ]
  },
  {
   "cell_type": "code",
   "execution_count": null,
   "metadata": {},
   "outputs": [],
   "source": []
  },
  {
   "cell_type": "code",
   "execution_count": null,
   "metadata": {},
   "outputs": [],
   "source": []
  },
  {
   "cell_type": "markdown",
   "metadata": {},
   "source": [
    "---\n",
    "**Resuelva los siguientes problemas usando la librería `SymPy`. Use celdas en `Markdown` para explicar su procedimiento.**"
   ]
  },
  {
   "cell_type": "markdown",
   "metadata": {},
   "source": [
    "El perímetro de un triángulo isósceles es de $10 cm$. ¿Cuánto deben medir sus lados para que el volumen del cuerpo generado por la rotación del triángulo en torno a su base sea el mayor posible? (Volumen de un cono $= \\frac{1}{3}\\pi r^2 h$, donde $r$ es el radio de la base y $h$ la altura del cono)."
   ]
  },
  {
   "cell_type": "code",
   "execution_count": 41,
   "metadata": {},
   "outputs": [
    {
     "data": {
      "text/latex": [
       "$\\displaystyle x + 2 y - 10$"
      ],
      "text/plain": [
       "x + 2*y - 10"
      ]
     },
     "execution_count": 41,
     "metadata": {},
     "output_type": "execute_result"
    }
   ],
   "source": [
    "import sympy as sp\n",
    "import numpy as np\n",
    "sp.var(\"x,y,h\")\n",
    "perimetro= x +2*y-10\n",
    "perimetro"
   ]
  },
  {
   "cell_type": "code",
   "execution_count": 42,
   "metadata": {},
   "outputs": [
    {
     "data": {
      "text/latex": [
       "$\\displaystyle 10 - 2 y$"
      ],
      "text/plain": [
       "10 - 2*y"
      ]
     },
     "execution_count": 42,
     "metadata": {},
     "output_type": "execute_result"
    }
   ],
   "source": [
    "x_sol= sp.solve(perimetro,x)[0]\n",
    "x_sol"
   ]
  },
  {
   "cell_type": "code",
   "execution_count": 44,
   "metadata": {},
   "outputs": [
    {
     "data": {
      "text/latex": [
       "$\\displaystyle \\sqrt{y^{2} - \\frac{\\left(10 - 2 y\\right)^{2}}{4}}$"
      ],
      "text/plain": [
       "sqrt(y**2 - (10 - 2*y)**2/4)"
      ]
     },
     "execution_count": 44,
     "metadata": {},
     "output_type": "execute_result"
    }
   ],
   "source": [
    "altura =sp.sqrt(y**2-(x/2)**2)\n",
    "h_sol= altura.subs(x,x_sol)\n",
    "h_sol\n"
   ]
  },
  {
   "cell_type": "code",
   "execution_count": 46,
   "metadata": {},
   "outputs": [
    {
     "data": {
      "text/latex": [
       "$\\displaystyle 0.0833333333333333 \\pi h x^{2}$"
      ],
      "text/plain": [
       "0.0833333333333333*pi*h*x**2"
      ]
     },
     "execution_count": 46,
     "metadata": {},
     "output_type": "execute_result"
    }
   ],
   "source": [
    "volumen=1/3 * sp.pi* ((x/2)**2) * h\n",
    "volumen"
   ]
  },
  {
   "cell_type": "code",
   "execution_count": 49,
   "metadata": {},
   "outputs": [
    {
     "data": {
      "text/latex": [
       "$\\displaystyle 0.0833333333333333 \\pi \\left(10 - 2 y\\right)^{2} \\sqrt{y^{2} - \\frac{\\left(10 - 2 y\\right)^{2}}{4}}$"
      ],
      "text/plain": [
       "0.0833333333333333*pi*(10 - 2*y)**2*sqrt(y**2 - (10 - 2*y)**2/4)"
      ]
     },
     "execution_count": 49,
     "metadata": {},
     "output_type": "execute_result"
    }
   ],
   "source": [
    "volumen_y=volumen.subs(x,x_sol).subs(h,h_sol)\n",
    "volumen_y"
   ]
  },
  {
   "cell_type": "code",
   "execution_count": 50,
   "metadata": {},
   "outputs": [
    {
     "data": {
      "text/latex": [
       "$\\displaystyle \\frac{0.416666666666667 \\pi \\left(10 - 2 y\\right)^{2}}{\\sqrt{y^{2} - \\frac{\\left(10 - 2 y\\right)^{2}}{4}}} + 0.0833333333333333 \\pi \\left(8 y - 40\\right) \\sqrt{y^{2} - \\frac{\\left(10 - 2 y\\right)^{2}}{4}}$"
      ],
      "text/plain": [
       "0.416666666666667*pi*(10 - 2*y)**2/sqrt(y**2 - (10 - 2*y)**2/4) + 0.0833333333333333*pi*(8*y - 40)*sqrt(y**2 - (10 - 2*y)**2/4)"
      ]
     },
     "execution_count": 50,
     "metadata": {},
     "output_type": "execute_result"
    }
   ],
   "source": [
    "dvolumen_y= sp.diff(volumen_y,y)\n",
    "dvolumen_y"
   ]
  },
  {
   "cell_type": "code",
   "execution_count": 53,
   "metadata": {},
   "outputs": [
    {
     "data": {
      "text/latex": [
       "$\\displaystyle 3.0$"
      ],
      "text/plain": [
       "3.00000000000000"
      ]
     },
     "execution_count": 53,
     "metadata": {},
     "output_type": "execute_result"
    }
   ],
   "source": [
    "y_num= sp.solve(dvolumen_y,y)[0]\n",
    "y_num"
   ]
  },
  {
   "cell_type": "code",
   "execution_count": 54,
   "metadata": {},
   "outputs": [
    {
     "data": {
      "text/latex": [
       "$\\displaystyle 4.0$"
      ],
      "text/plain": [
       "4.00000000000000"
      ]
     },
     "execution_count": 54,
     "metadata": {},
     "output_type": "execute_result"
    }
   ],
   "source": [
    "x_num=x_sol.subs(y,y_num)\n",
    "x_num"
   ]
  },
  {
   "cell_type": "code",
   "execution_count": 55,
   "metadata": {},
   "outputs": [
    {
     "data": {
      "text/latex": [
       "$\\displaystyle 2.23606797749979$"
      ],
      "text/plain": [
       "2.23606797749979"
      ]
     },
     "execution_count": 55,
     "metadata": {},
     "output_type": "execute_result"
    }
   ],
   "source": [
    "h_num= h_sol.subs(y,y_num)\n",
    "h_num"
   ]
  },
  {
   "cell_type": "code",
   "execution_count": null,
   "metadata": {},
   "outputs": [],
   "source": []
  },
  {
   "cell_type": "code",
   "execution_count": null,
   "metadata": {},
   "outputs": [],
   "source": []
  },
  {
   "cell_type": "code",
   "execution_count": null,
   "metadata": {},
   "outputs": [],
   "source": []
  },
  {
   "cell_type": "code",
   "execution_count": null,
   "metadata": {},
   "outputs": [],
   "source": []
  },
  {
   "cell_type": "markdown",
   "metadata": {},
   "source": [
    "Disponemos de una barra de aluminio de 6 metros para construir una portería de fútbol. Si queremos que el área de la portería sea máxima, ¿cuánto deben medir los postes y el travesaño?"
   ]
  },
  {
   "cell_type": "code",
   "execution_count": 56,
   "metadata": {},
   "outputs": [
    {
     "data": {
      "text/latex": [
       "$\\displaystyle x + 2 y - 6$"
      ],
      "text/plain": [
       "x + 2*y - 6"
      ]
     },
     "execution_count": 56,
     "metadata": {},
     "output_type": "execute_result"
    }
   ],
   "source": [
    "import sympy as sp\n",
    "import numpy as np\n",
    "sp.var(\"x,h\")\n",
    "perimetro= 2*y+x-6\n",
    "perimetro"
   ]
  },
  {
   "cell_type": "code",
   "execution_count": 57,
   "metadata": {},
   "outputs": [
    {
     "data": {
      "text/latex": [
       "$\\displaystyle 6 - 2 y$"
      ],
      "text/plain": [
       "6 - 2*y"
      ]
     },
     "execution_count": 57,
     "metadata": {},
     "output_type": "execute_result"
    }
   ],
   "source": [
    "x_sol= sp.solve(perimetro,x)[0]\n",
    "x_sol"
   ]
  },
  {
   "cell_type": "code",
   "execution_count": null,
   "metadata": {},
   "outputs": [],
   "source": []
  },
  {
   "cell_type": "code",
   "execution_count": null,
   "metadata": {},
   "outputs": [],
   "source": []
  },
  {
   "cell_type": "code",
   "execution_count": null,
   "metadata": {},
   "outputs": [],
   "source": []
  }
 ],
 "metadata": {
  "kernelspec": {
   "display_name": "Python 3",
   "language": "python",
   "name": "python3"
  },
  "language_info": {
   "codemirror_mode": {
    "name": "ipython",
    "version": 3
   },
   "file_extension": ".py",
   "mimetype": "text/x-python",
   "name": "python",
   "nbconvert_exporter": "python",
   "pygments_lexer": "ipython3",
   "version": "3.8.8"
  }
 },
 "nbformat": 4,
 "nbformat_minor": 2
}
